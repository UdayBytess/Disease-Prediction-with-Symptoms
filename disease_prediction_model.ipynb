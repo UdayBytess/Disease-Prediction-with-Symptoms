{
 "cells": [
  {
   "cell_type": "markdown",
   "id": "5c7b86cd-8aaa-45e8-a06c-f64c11562e8f",
   "metadata": {},
   "source": [
    "# Disease Prediction from Symptoms using Machine Learning a Flask App"
   ]
  },
  {
   "cell_type": "code",
   "execution_count": 1,
   "id": "37306051-42d2-4cec-aff1-2904525c1fe6",
   "metadata": {},
   "outputs": [
    {
     "name": "stdout",
     "output_type": "stream",
     "text": [
      "Epoch 1/25\n",
      "32/32 [==============================] - ETA: 0s - loss: 3.4107 - accuracy: 0.0297\n",
      "Epoch 1: Precision: 0.0016, Recall: 0.0395, F1-Score: 0.0030\n",
      "32/32 [==============================] - 15s 298ms/step - loss: 3.4107 - accuracy: 0.0297 - val_loss: 3.3615 - val_accuracy: 0.0395\n",
      "Epoch 2/25\n"
     ]
    },
    {
     "name": "stderr",
     "output_type": "stream",
     "text": [
      "C:\\Users\\91861\\anaconda3\\envs\\tf\\lib\\site-packages\\sklearn\\metrics\\_classification.py:1565: UndefinedMetricWarning: Precision is ill-defined and being set to 0.0 in labels with no predicted samples. Use `zero_division` parameter to control this behavior.\n",
      "  _warn_prf(average, modifier, f\"{metric.capitalize()} is\", len(result))\n"
     ]
    },
    {
     "name": "stdout",
     "output_type": "stream",
     "text": [
      "32/32 [==============================] - ETA: 0s - loss: 3.3559 - accuracy: 0.0357\n",
      "Epoch 2: Precision: 0.0016, Recall: 0.0395, F1-Score: 0.0030\n",
      "32/32 [==============================] - 8s 238ms/step - loss: 3.3559 - accuracy: 0.0357 - val_loss: 3.3114 - val_accuracy: 0.0395\n",
      "Epoch 3/25\n",
      " 1/32 [..............................] - ETA: 5s - loss: 3.2654 - accuracy: 0.0312"
     ]
    },
    {
     "name": "stderr",
     "output_type": "stream",
     "text": [
      "C:\\Users\\91861\\anaconda3\\envs\\tf\\lib\\site-packages\\sklearn\\metrics\\_classification.py:1565: UndefinedMetricWarning: Precision is ill-defined and being set to 0.0 in labels with no predicted samples. Use `zero_division` parameter to control this behavior.\n",
      "  _warn_prf(average, modifier, f\"{metric.capitalize()} is\", len(result))\n"
     ]
    },
    {
     "name": "stdout",
     "output_type": "stream",
     "text": [
      "32/32 [==============================] - ETA: 0s - loss: 3.3405 - accuracy: 0.0466\n",
      "Epoch 3: Precision: 0.0196, Recall: 0.0751, F1-Score: 0.0272\n",
      "32/32 [==============================] - 7s 210ms/step - loss: 3.3405 - accuracy: 0.0466 - val_loss: 3.2807 - val_accuracy: 0.0751\n",
      "Epoch 4/25\n",
      " 1/32 [..............................] - ETA: 5s - loss: 3.2309 - accuracy: 0.0625"
     ]
    },
    {
     "name": "stderr",
     "output_type": "stream",
     "text": [
      "C:\\Users\\91861\\anaconda3\\envs\\tf\\lib\\site-packages\\sklearn\\metrics\\_classification.py:1565: UndefinedMetricWarning: Precision is ill-defined and being set to 0.0 in labels with no predicted samples. Use `zero_division` parameter to control this behavior.\n",
      "  _warn_prf(average, modifier, f\"{metric.capitalize()} is\", len(result))\n"
     ]
    },
    {
     "name": "stdout",
     "output_type": "stream",
     "text": [
      "32/32 [==============================] - ETA: 0s - loss: 3.2505 - accuracy: 0.0585\n",
      "Epoch 4: Precision: 0.1787, Recall: 0.2372, F1-Score: 0.1408\n",
      "32/32 [==============================] - 7s 205ms/step - loss: 3.2505 - accuracy: 0.0585 - val_loss: 3.0619 - val_accuracy: 0.2372\n",
      "Epoch 5/25\n",
      " 1/32 [..............................] - ETA: 5s - loss: 3.1029 - accuracy: 0.1562"
     ]
    },
    {
     "name": "stderr",
     "output_type": "stream",
     "text": [
      "C:\\Users\\91861\\anaconda3\\envs\\tf\\lib\\site-packages\\sklearn\\metrics\\_classification.py:1565: UndefinedMetricWarning: Precision is ill-defined and being set to 0.0 in labels with no predicted samples. Use `zero_division` parameter to control this behavior.\n",
      "  _warn_prf(average, modifier, f\"{metric.capitalize()} is\", len(result))\n"
     ]
    },
    {
     "name": "stdout",
     "output_type": "stream",
     "text": [
      "32/32 [==============================] - ETA: 0s - loss: 2.7189 - accuracy: 0.1933\n",
      "Epoch 5: Precision: 0.4038, Recall: 0.4348, F1-Score: 0.3605\n",
      "32/32 [==============================] - 6s 203ms/step - loss: 2.7189 - accuracy: 0.1933 - val_loss: 2.1449 - val_accuracy: 0.4348\n",
      "Epoch 6/25\n",
      " 1/32 [..............................] - ETA: 5s - loss: 2.4580 - accuracy: 0.3750"
     ]
    },
    {
     "name": "stderr",
     "output_type": "stream",
     "text": [
      "C:\\Users\\91861\\anaconda3\\envs\\tf\\lib\\site-packages\\sklearn\\metrics\\_classification.py:1565: UndefinedMetricWarning: Precision is ill-defined and being set to 0.0 in labels with no predicted samples. Use `zero_division` parameter to control this behavior.\n",
      "  _warn_prf(average, modifier, f\"{metric.capitalize()} is\", len(result))\n"
     ]
    },
    {
     "name": "stdout",
     "output_type": "stream",
     "text": [
      "32/32 [==============================] - ETA: 0s - loss: 1.8653 - accuracy: 0.4163\n",
      "Epoch 6: Precision: 0.5304, Recall: 0.5731, F1-Score: 0.5221\n",
      "32/32 [==============================] - 7s 207ms/step - loss: 1.8653 - accuracy: 0.4163 - val_loss: 1.4444 - val_accuracy: 0.5731\n",
      "Epoch 7/25\n",
      " 1/32 [..............................] - ETA: 5s - loss: 1.2650 - accuracy: 0.5938"
     ]
    },
    {
     "name": "stderr",
     "output_type": "stream",
     "text": [
      "C:\\Users\\91861\\anaconda3\\envs\\tf\\lib\\site-packages\\sklearn\\metrics\\_classification.py:1565: UndefinedMetricWarning: Precision is ill-defined and being set to 0.0 in labels with no predicted samples. Use `zero_division` parameter to control this behavior.\n",
      "  _warn_prf(average, modifier, f\"{metric.capitalize()} is\", len(result))\n"
     ]
    },
    {
     "name": "stdout",
     "output_type": "stream",
     "text": [
      "32/32 [==============================] - ETA: 0s - loss: 1.2156 - accuracy: 0.6174\n",
      "Epoch 7: Precision: 0.6617, Recall: 0.6680, F1-Score: 0.6431\n",
      "32/32 [==============================] - 7s 204ms/step - loss: 1.2156 - accuracy: 0.6174 - val_loss: 1.0294 - val_accuracy: 0.6680\n",
      "Epoch 8/25\n",
      " 1/32 [..............................] - ETA: 5s - loss: 0.7334 - accuracy: 0.7188"
     ]
    },
    {
     "name": "stderr",
     "output_type": "stream",
     "text": [
      "C:\\Users\\91861\\anaconda3\\envs\\tf\\lib\\site-packages\\sklearn\\metrics\\_classification.py:1565: UndefinedMetricWarning: Precision is ill-defined and being set to 0.0 in labels with no predicted samples. Use `zero_division` parameter to control this behavior.\n",
      "  _warn_prf(average, modifier, f\"{metric.capitalize()} is\", len(result))\n"
     ]
    },
    {
     "name": "stdout",
     "output_type": "stream",
     "text": [
      "32/32 [==============================] - ETA: 0s - loss: 0.7311 - accuracy: 0.7532\n",
      "Epoch 8: Precision: 0.7882, Recall: 0.7905, F1-Score: 0.7787\n",
      "32/32 [==============================] - 7s 212ms/step - loss: 0.7311 - accuracy: 0.7532 - val_loss: 0.7251 - val_accuracy: 0.7905\n",
      "Epoch 9/25\n",
      " 1/32 [..............................] - ETA: 5s - loss: 0.4489 - accuracy: 0.9062"
     ]
    },
    {
     "name": "stderr",
     "output_type": "stream",
     "text": [
      "C:\\Users\\91861\\anaconda3\\envs\\tf\\lib\\site-packages\\sklearn\\metrics\\_classification.py:1565: UndefinedMetricWarning: Precision is ill-defined and being set to 0.0 in labels with no predicted samples. Use `zero_division` parameter to control this behavior.\n",
      "  _warn_prf(average, modifier, f\"{metric.capitalize()} is\", len(result))\n"
     ]
    },
    {
     "name": "stdout",
     "output_type": "stream",
     "text": [
      "32/32 [==============================] - ETA: 0s - loss: 0.4540 - accuracy: 0.8603\n",
      "Epoch 9: Precision: 0.8297, Recall: 0.8142, F1-Score: 0.8109\n",
      "32/32 [==============================] - 7s 208ms/step - loss: 0.4540 - accuracy: 0.8603 - val_loss: 0.6346 - val_accuracy: 0.8142\n",
      "Epoch 10/25\n",
      " 1/32 [..............................] - ETA: 5s - loss: 0.5079 - accuracy: 0.7812"
     ]
    },
    {
     "name": "stderr",
     "output_type": "stream",
     "text": [
      "C:\\Users\\91861\\anaconda3\\envs\\tf\\lib\\site-packages\\sklearn\\metrics\\_classification.py:1565: UndefinedMetricWarning: Precision is ill-defined and being set to 0.0 in labels with no predicted samples. Use `zero_division` parameter to control this behavior.\n",
      "  _warn_prf(average, modifier, f\"{metric.capitalize()} is\", len(result))\n"
     ]
    },
    {
     "name": "stdout",
     "output_type": "stream",
     "text": [
      "32/32 [==============================] - ETA: 0s - loss: 0.3829 - accuracy: 0.8791\n",
      "Epoch 10: Precision: 0.7895, Recall: 0.7747, F1-Score: 0.7664\n",
      "32/32 [==============================] - 7s 209ms/step - loss: 0.3829 - accuracy: 0.8791 - val_loss: 0.6773 - val_accuracy: 0.7747\n",
      "Epoch 11/25\n",
      " 1/32 [..............................] - ETA: 5s - loss: 0.2589 - accuracy: 0.9062"
     ]
    },
    {
     "name": "stderr",
     "output_type": "stream",
     "text": [
      "C:\\Users\\91861\\anaconda3\\envs\\tf\\lib\\site-packages\\sklearn\\metrics\\_classification.py:1565: UndefinedMetricWarning: Precision is ill-defined and being set to 0.0 in labels with no predicted samples. Use `zero_division` parameter to control this behavior.\n",
      "  _warn_prf(average, modifier, f\"{metric.capitalize()} is\", len(result))\n"
     ]
    },
    {
     "name": "stdout",
     "output_type": "stream",
     "text": [
      "32/32 [==============================] - ETA: 0s - loss: 0.2321 - accuracy: 0.9356\n",
      "Epoch 11: Precision: 0.8539, Recall: 0.8379, F1-Score: 0.8358\n",
      "32/32 [==============================] - 7s 213ms/step - loss: 0.2321 - accuracy: 0.9356 - val_loss: 0.5197 - val_accuracy: 0.8379\n",
      "Epoch 12/25\n",
      "32/32 [==============================] - ETA: 0s - loss: 0.1930 - accuracy: 0.9425\n",
      "Epoch 12: Precision: 0.8511, Recall: 0.8300, F1-Score: 0.8259\n",
      "32/32 [==============================] - 7s 206ms/step - loss: 0.1930 - accuracy: 0.9425 - val_loss: 0.5102 - val_accuracy: 0.8300\n",
      "Epoch 13/25\n",
      " 1/32 [..............................] - ETA: 5s - loss: 0.1149 - accuracy: 1.0000"
     ]
    },
    {
     "name": "stderr",
     "output_type": "stream",
     "text": [
      "C:\\Users\\91861\\anaconda3\\envs\\tf\\lib\\site-packages\\sklearn\\metrics\\_classification.py:1565: UndefinedMetricWarning: Precision is ill-defined and being set to 0.0 in labels with no predicted samples. Use `zero_division` parameter to control this behavior.\n",
      "  _warn_prf(average, modifier, f\"{metric.capitalize()} is\", len(result))\n"
     ]
    },
    {
     "name": "stdout",
     "output_type": "stream",
     "text": [
      "32/32 [==============================] - ETA: 0s - loss: 0.1229 - accuracy: 0.9653\n",
      "Epoch 13: Precision: 0.8569, Recall: 0.8498, F1-Score: 0.8437\n",
      "32/32 [==============================] - 7s 205ms/step - loss: 0.1229 - accuracy: 0.9653 - val_loss: 0.4958 - val_accuracy: 0.8498\n",
      "Epoch 14/25\n",
      "32/32 [==============================] - ETA: 0s - loss: 0.0841 - accuracy: 0.9762\n",
      "Epoch 14: Precision: 0.8780, Recall: 0.8617, F1-Score: 0.8626\n",
      "32/32 [==============================] - 7s 209ms/step - loss: 0.0841 - accuracy: 0.9762 - val_loss: 0.4535 - val_accuracy: 0.8617\n",
      "Epoch 15/25\n",
      "32/32 [==============================] - ETA: 0s - loss: 0.0993 - accuracy: 0.9742\n",
      "Epoch 15: Precision: 0.8825, Recall: 0.8656, F1-Score: 0.8662\n",
      "32/32 [==============================] - 7s 208ms/step - loss: 0.0993 - accuracy: 0.9742 - val_loss: 0.4772 - val_accuracy: 0.8656\n",
      "Epoch 16/25\n",
      " 1/32 [..............................] - ETA: 5s - loss: 0.0690 - accuracy: 0.9688"
     ]
    },
    {
     "name": "stderr",
     "output_type": "stream",
     "text": [
      "C:\\Users\\91861\\anaconda3\\envs\\tf\\lib\\site-packages\\sklearn\\metrics\\_classification.py:1565: UndefinedMetricWarning: Precision is ill-defined and being set to 0.0 in labels with no predicted samples. Use `zero_division` parameter to control this behavior.\n",
      "  _warn_prf(average, modifier, f\"{metric.capitalize()} is\", len(result))\n"
     ]
    },
    {
     "name": "stdout",
     "output_type": "stream",
     "text": [
      "32/32 [==============================] - ETA: 0s - loss: 0.0757 - accuracy: 0.9772\n",
      "Epoch 16: Precision: 0.8804, Recall: 0.8775, F1-Score: 0.8724\n",
      "32/32 [==============================] - 7s 218ms/step - loss: 0.0757 - accuracy: 0.9772 - val_loss: 0.3784 - val_accuracy: 0.8775\n",
      "Epoch 17/25\n",
      " 1/32 [..............................] - ETA: 5s - loss: 0.0666 - accuracy: 0.9688"
     ]
    },
    {
     "name": "stderr",
     "output_type": "stream",
     "text": [
      "C:\\Users\\91861\\anaconda3\\envs\\tf\\lib\\site-packages\\sklearn\\metrics\\_classification.py:1565: UndefinedMetricWarning: Precision is ill-defined and being set to 0.0 in labels with no predicted samples. Use `zero_division` parameter to control this behavior.\n",
      "  _warn_prf(average, modifier, f\"{metric.capitalize()} is\", len(result))\n"
     ]
    },
    {
     "name": "stdout",
     "output_type": "stream",
     "text": [
      "32/32 [==============================] - ETA: 0s - loss: 0.0548 - accuracy: 0.9881\n",
      "Epoch 17: Precision: 0.8913, Recall: 0.8775, F1-Score: 0.8780\n",
      "32/32 [==============================] - 7s 222ms/step - loss: 0.0548 - accuracy: 0.9881 - val_loss: 0.4567 - val_accuracy: 0.8775\n",
      "Epoch 18/25\n",
      " 1/32 [..............................] - ETA: 5s - loss: 0.0193 - accuracy: 1.0000"
     ]
    },
    {
     "name": "stderr",
     "output_type": "stream",
     "text": [
      "C:\\Users\\91861\\anaconda3\\envs\\tf\\lib\\site-packages\\sklearn\\metrics\\_classification.py:1565: UndefinedMetricWarning: Precision is ill-defined and being set to 0.0 in labels with no predicted samples. Use `zero_division` parameter to control this behavior.\n",
      "  _warn_prf(average, modifier, f\"{metric.capitalize()} is\", len(result))\n"
     ]
    },
    {
     "name": "stdout",
     "output_type": "stream",
     "text": [
      "32/32 [==============================] - ETA: 0s - loss: 0.0481 - accuracy: 0.9861\n",
      "Epoch 18: Precision: 0.8902, Recall: 0.8854, F1-Score: 0.8820\n",
      "32/32 [==============================] - 7s 208ms/step - loss: 0.0481 - accuracy: 0.9861 - val_loss: 0.4273 - val_accuracy: 0.8854\n",
      "Epoch 19/25\n",
      " 1/32 [..............................] - ETA: 5s - loss: 0.0308 - accuracy: 1.0000"
     ]
    },
    {
     "name": "stderr",
     "output_type": "stream",
     "text": [
      "C:\\Users\\91861\\anaconda3\\envs\\tf\\lib\\site-packages\\sklearn\\metrics\\_classification.py:1565: UndefinedMetricWarning: Precision is ill-defined and being set to 0.0 in labels with no predicted samples. Use `zero_division` parameter to control this behavior.\n",
      "  _warn_prf(average, modifier, f\"{metric.capitalize()} is\", len(result))\n"
     ]
    },
    {
     "name": "stdout",
     "output_type": "stream",
     "text": [
      "32/32 [==============================] - ETA: 0s - loss: 0.0317 - accuracy: 0.9950\n",
      "Epoch 19: Precision: 0.9029, Recall: 0.8735, F1-Score: 0.8778\n",
      "32/32 [==============================] - 7s 212ms/step - loss: 0.0317 - accuracy: 0.9950 - val_loss: 0.5747 - val_accuracy: 0.8735\n",
      "Epoch 20/25\n",
      "32/32 [==============================] - ETA: 0s - loss: 0.0382 - accuracy: 0.9921\n",
      "Epoch 20: Precision: 0.8822, Recall: 0.8775, F1-Score: 0.8748\n",
      "32/32 [==============================] - 7s 213ms/step - loss: 0.0382 - accuracy: 0.9921 - val_loss: 0.4218 - val_accuracy: 0.8775\n",
      "Epoch 21/25\n",
      " 1/32 [..............................] - ETA: 6s - loss: 0.0243 - accuracy: 1.0000"
     ]
    },
    {
     "name": "stderr",
     "output_type": "stream",
     "text": [
      "C:\\Users\\91861\\anaconda3\\envs\\tf\\lib\\site-packages\\sklearn\\metrics\\_classification.py:1565: UndefinedMetricWarning: Precision is ill-defined and being set to 0.0 in labels with no predicted samples. Use `zero_division` parameter to control this behavior.\n",
      "  _warn_prf(average, modifier, f\"{metric.capitalize()} is\", len(result))\n"
     ]
    },
    {
     "name": "stdout",
     "output_type": "stream",
     "text": [
      "32/32 [==============================] - ETA: 0s - loss: 0.0249 - accuracy: 0.9980\n",
      "Epoch 21: Precision: 0.8901, Recall: 0.8854, F1-Score: 0.8827\n",
      "32/32 [==============================] - 7s 207ms/step - loss: 0.0249 - accuracy: 0.9980 - val_loss: 0.4070 - val_accuracy: 0.8854\n",
      "Epoch 22/25\n",
      " 1/32 [..............................] - ETA: 5s - loss: 0.0155 - accuracy: 1.0000"
     ]
    },
    {
     "name": "stderr",
     "output_type": "stream",
     "text": [
      "C:\\Users\\91861\\anaconda3\\envs\\tf\\lib\\site-packages\\sklearn\\metrics\\_classification.py:1565: UndefinedMetricWarning: Precision is ill-defined and being set to 0.0 in labels with no predicted samples. Use `zero_division` parameter to control this behavior.\n",
      "  _warn_prf(average, modifier, f\"{metric.capitalize()} is\", len(result))\n"
     ]
    },
    {
     "name": "stdout",
     "output_type": "stream",
     "text": [
      "32/32 [==============================] - ETA: 0s - loss: 0.0269 - accuracy: 0.9941\n",
      "Epoch 22: Precision: 0.9011, Recall: 0.8893, F1-Score: 0.8821\n",
      "32/32 [==============================] - 6s 204ms/step - loss: 0.0269 - accuracy: 0.9941 - val_loss: 0.3530 - val_accuracy: 0.8893\n",
      "Epoch 23/25\n",
      "32/32 [==============================] - ETA: 0s - loss: 0.0262 - accuracy: 0.9941\n",
      "Epoch 23: Precision: 0.8994, Recall: 0.8933, F1-Score: 0.8906\n",
      "32/32 [==============================] - 6s 203ms/step - loss: 0.0262 - accuracy: 0.9941 - val_loss: 0.3776 - val_accuracy: 0.8933\n",
      "Epoch 24/25\n",
      " 1/32 [..............................] - ETA: 5s - loss: 0.0252 - accuracy: 1.0000"
     ]
    },
    {
     "name": "stderr",
     "output_type": "stream",
     "text": [
      "C:\\Users\\91861\\anaconda3\\envs\\tf\\lib\\site-packages\\sklearn\\metrics\\_classification.py:1565: UndefinedMetricWarning: Precision is ill-defined and being set to 0.0 in labels with no predicted samples. Use `zero_division` parameter to control this behavior.\n",
      "  _warn_prf(average, modifier, f\"{metric.capitalize()} is\", len(result))\n"
     ]
    },
    {
     "name": "stdout",
     "output_type": "stream",
     "text": [
      "32/32 [==============================] - ETA: 0s - loss: 0.0452 - accuracy: 0.9881\n",
      "Epoch 24: Precision: 0.9114, Recall: 0.9012, F1-Score: 0.9012\n",
      "32/32 [==============================] - 7s 210ms/step - loss: 0.0452 - accuracy: 0.9881 - val_loss: 0.3808 - val_accuracy: 0.9012\n",
      "Epoch 25/25\n",
      "32/32 [==============================] - ETA: 0s - loss: 0.0399 - accuracy: 0.9901\n",
      "Epoch 25: Precision: 0.9093, Recall: 0.8933, F1-Score: 0.8901\n",
      "32/32 [==============================] - 7s 211ms/step - loss: 0.0399 - accuracy: 0.9901 - val_loss: 0.3797 - val_accuracy: 0.8933\n",
      "Enhanced Model with Attention Accuracy: 89.33%\n"
     ]
    }
   ],
   "source": [
    "import numpy as np\n",
    "import pandas as pd\n",
    "from sklearn.model_selection import train_test_split\n",
    "from sklearn.preprocessing import LabelEncoder\n",
    "from sklearn.feature_extraction.text import TfidfVectorizer\n",
    "from tensorflow.keras.models import Model\n",
    "from tensorflow.keras.layers import Embedding, Bidirectional, LSTM, Dense, Dropout, Input, Layer\n",
    "from tensorflow.keras.preprocessing.text import Tokenizer\n",
    "from tensorflow.keras.preprocessing.sequence import pad_sequences\n",
    "import re\n",
    "import tensorflow as tf\n",
    "from sklearn.metrics import precision_score, recall_score, f1_score\n",
    "\n",
    "# Custom Attention Layer\n",
    "class AttentionLayer(Layer):\n",
    "    def __init__(self):\n",
    "        super(AttentionLayer, self).__init__()\n",
    "\n",
    "    def build(self, input_shape):\n",
    "        self.W = self.add_weight(name='attention_weight', shape=(input_shape[-1], input_shape[-1]), initializer='glorot_uniform', trainable=True)\n",
    "        self.b = self.add_weight(name='attention_bias', shape=(input_shape[-1],), initializer='zeros', trainable=True)\n",
    "        self.u = self.add_weight(name='context_vector', shape=(input_shape[-1],), initializer='glorot_uniform', trainable=True)\n",
    "        super(AttentionLayer, self).build(input_shape)\n",
    "\n",
    "    def call(self, x):\n",
    "        score = tf.nn.tanh(tf.tensordot(x, self.W, axes=[2, 0]) + self.b)\n",
    "        attention_weights = tf.nn.softmax(tf.tensordot(score, self.u, axes=[2, 0]), axis=1)\n",
    "        context_vector = tf.reduce_sum(attention_weights[..., tf.newaxis] * x, axis=1)\n",
    "        return context_vector\n",
    "\n",
    "# Load and preprocess the dataset\n",
    "file_path = 'Symptom2Disease.csv'\n",
    "data = pd.read_csv(file_path)\n",
    "data = data[['label', 'text']]\n",
    "\n",
    "# Text cleaning function\n",
    "def clean_text(text):\n",
    "    text = text.lower()\n",
    "    text = re.sub(r'[^a-zA-Z\\s]', '', text)  # Remove punctuation\n",
    "    text = re.sub(r'\\s+', ' ', text).strip()  # Remove extra spaces\n",
    "    return text\n",
    "\n",
    "data['text'] = data['text'].apply(clean_text)\n",
    "\n",
    "# Encode labels\n",
    "label_encoder = LabelEncoder()\n",
    "data['label_encoded'] = label_encoder.fit_transform(data['label'])\n",
    "\n",
    "# Prepare data for feature extraction and modeling\n",
    "X = data['text']\n",
    "y = data['label_encoded']\n",
    "\n",
    "# Split data into train and test sets\n",
    "X_train, X_test, y_train, y_test = train_test_split(X, y, test_size=0.2, random_state=42, stratify=y)\n",
    "\n",
    "# Tokenize text for LSTM\n",
    "tokenizer = Tokenizer(num_words=10000)\n",
    "tokenizer.fit_on_texts(X_train)\n",
    "X_train_seq = tokenizer.texts_to_sequences(X_train)\n",
    "X_test_seq = tokenizer.texts_to_sequences(X_test)\n",
    "\n",
    "# Pad sequences\n",
    "max_sequence_length = 150\n",
    "X_train_pad = pad_sequences(X_train_seq, maxlen=max_sequence_length)\n",
    "X_test_pad = pad_sequences(X_test_seq, maxlen=max_sequence_length)\n",
    "\n",
    "# Build enhanced LSTM model with Attention mechanism\n",
    "input_layer = Input(shape=(max_sequence_length,))\n",
    "embedding_layer = Embedding(input_dim=10000, output_dim=128, input_length=max_sequence_length)(input_layer)\n",
    "lstm_layer = Bidirectional(LSTM(128, return_sequences=True, dropout=0.3))(embedding_layer)\n",
    "attention_layer = AttentionLayer()(lstm_layer)\n",
    "dense_layer = Dense(128, activation='relu')(attention_layer)\n",
    "dropout_layer = Dropout(0.4)(dense_layer)\n",
    "output_layer = Dense(len(label_encoder.classes_), activation='softmax')(dropout_layer)\n",
    "\n",
    "model = Model(inputs=input_layer, outputs=output_layer)\n",
    "model.compile(optimizer='adam', loss='sparse_categorical_crossentropy', metrics=['accuracy'])\n",
    "\n",
    "# Custom Callback to Display Precision, Recall, and F1-Score After Every Epoch\n",
    "class MetricsCallback(tf.keras.callbacks.Callback):\n",
    "    def on_epoch_end(self, epoch, logs=None):\n",
    "        y_pred_probs = model.predict(X_test_pad, verbose=0)\n",
    "        y_pred = np.argmax(y_pred_probs, axis=1)\n",
    "\n",
    "        precision = precision_score(y_test, y_pred, average='weighted')\n",
    "        recall = recall_score(y_test, y_pred, average='weighted')\n",
    "        f1 = f1_score(y_test, y_pred, average='weighted')\n",
    "\n",
    "        print(f\"\\nEpoch {epoch+1}: Precision: {precision:.4f}, Recall: {recall:.4f}, F1-Score: {f1:.4f}\")\n",
    "\n",
    "# Train the model with the custom callback\n",
    "history = model.fit(X_train_pad, y_train, validation_data=(X_test_pad, y_test), \n",
    "                    epochs=25, batch_size=32, verbose=1, callbacks=[MetricsCallback()])\n",
    "\n",
    "# Evaluate the model\n",
    "accuracy = model.evaluate(X_test_pad, y_test, verbose=0)[1]\n",
    "print(f\"Enhanced Model with Attention Accuracy: {accuracy * 100:.2f}%\")\n",
    "\n",
    "# Function to predict disease from user input\n",
    "def predict_disease(symptoms):\n",
    "    symptoms_cleaned = clean_text(symptoms)\n",
    "    seq = tokenizer.texts_to_sequences([symptoms_cleaned])\n",
    "    pad = pad_sequences(seq, maxlen=max_sequence_length)\n",
    "    pred = model.predict(pad)\n",
    "    predicted_label = label_encoder.inverse_transform([np.argmax(pred)])[0]\n",
    "    return predicted_label\n"
   ]
  },
  {
   "cell_type": "code",
   "execution_count": 3,
   "id": "e824795d-0b3b-4db9-8f08-1b401f37fafe",
   "metadata": {},
   "outputs": [],
   "source": [
    "model.save(\"disease_prediction_model.h5\")"
   ]
  },
  {
   "cell_type": "code",
   "execution_count": 4,
   "id": "c3192636-82b9-41ba-af80-5c3fb8c9e1e8",
   "metadata": {},
   "outputs": [
    {
     "name": "stdout",
     "output_type": "stream",
     "text": [
      "✅ preprocessing.pkl saved successfully!\n"
     ]
    }
   ],
   "source": [
    "import pickle\n",
    "\n",
    "# Assuming tokenizer and label_encoder are already created in your training script\n",
    "with open(\"preprocessing.pkl\", \"wb\") as f:\n",
    "    pickle.dump({\"tokenizer\": tokenizer, \"label_encoder\": label_encoder}, f)\n",
    "\n",
    "print(\"✅ preprocessing.pkl saved successfully!\")\n"
   ]
  },
  {
   "cell_type": "code",
   "execution_count": 5,
   "id": "6c091d87-ec72-4cb8-ad12-7372e75d80d2",
   "metadata": {},
   "outputs": [
    {
     "name": "stdin",
     "output_type": "stream",
     "text": [
      "Enter symptoms:  fever headache \n"
     ]
    },
    {
     "name": "stdout",
     "output_type": "stream",
     "text": [
      "1/1 [==============================] - 0s 33ms/step\n",
      "Predicted Disease: Dengue\n"
     ]
    }
   ],
   "source": [
    "# Example user interaction\n",
    "user_input = input(\"Enter symptoms: \")\n",
    "prediction = predict_disease(user_input)\n",
    "print(f\"Predicted Disease: {prediction}\")"
   ]
  },
  {
   "cell_type": "code",
   "execution_count": null,
   "id": "4292cf58-16d1-43a9-9fab-e3c656af0bee",
   "metadata": {},
   "outputs": [],
   "source": []
  }
 ],
 "metadata": {
  "kernelspec": {
   "display_name": "Python 3 (ipykernel)",
   "language": "python",
   "name": "python3"
  },
  "language_info": {
   "codemirror_mode": {
    "name": "ipython",
    "version": 3
   },
   "file_extension": ".py",
   "mimetype": "text/x-python",
   "name": "python",
   "nbconvert_exporter": "python",
   "pygments_lexer": "ipython3",
   "version": "3.13.5"
  }
 },
 "nbformat": 4,
 "nbformat_minor": 5
}
